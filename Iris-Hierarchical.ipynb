{
 "cells": [
  {
   "cell_type": "markdown",
   "id": "committed-rocket",
   "metadata": {
    "ExecuteTime": {
     "end_time": "2021-05-19T06:53:46.365951Z",
     "start_time": "2021-05-19T06:53:42.233390Z"
    }
   },
   "source": [
    "#### Available Methods: https://support.minitab.com/en-us/minitab/18/help-and-how-to/modeling-statistics/multivariate/how-to/cluster-observations/methods-and-formulas/linkage-methods/"
   ]
  },
  {
   "cell_type": "code",
   "execution_count": 1,
   "id": "norman-stamp",
   "metadata": {
    "ExecuteTime": {
     "end_time": "2021-05-19T07:55:25.458444Z",
     "start_time": "2021-05-19T07:55:24.028206Z"
    }
   },
   "outputs": [],
   "source": [
    "#Importing libraries\n",
    "import pandas as pd\n",
    "from sklearn.datasets import load_iris\n",
    "from sklearn.cluster import AgglomerativeClustering\n",
    "import numpy as np\n",
    "import matplotlib.pyplot as plt\n",
    "from scipy.cluster.hierarchy import dendrogram , linkage\n",
    " \n",
    "#Getting the data ready\n",
    " \n",
    "data = load_iris()\n",
    "#Selecting certain features based on which clustering is done \n",
    "df = pd.DataFrame(data= np.c_[data['data']],\n",
    "                     columns= data['feature_names'])"
   ]
  },
  {
   "cell_type": "code",
   "execution_count": 2,
   "id": "varying-insulation",
   "metadata": {
    "ExecuteTime": {
     "end_time": "2021-05-19T07:55:26.910935Z",
     "start_time": "2021-05-19T07:55:26.902917Z"
    }
   },
   "outputs": [],
   "source": [
    "from sklearn.preprocessing import StandardScaler\n",
    "\n",
    "scaler = StandardScaler()\n",
    "df_scaled_ss = scaler.fit_transform(df)"
   ]
  },
  {
   "cell_type": "code",
   "execution_count": 3,
   "id": "pregnant-discount",
   "metadata": {
    "ExecuteTime": {
     "end_time": "2021-05-19T07:55:28.228478Z",
     "start_time": "2021-05-19T07:55:28.224228Z"
    }
   },
   "outputs": [
    {
     "name": "stdout",
     "output_type": "stream",
     "text": [
      "-2.43394714190809\n",
      "3.0907752482994253\n"
     ]
    }
   ],
   "source": [
    "print(df_scaled_ss.min())\n",
    "print(df_scaled_ss.max())"
   ]
  },
  {
   "cell_type": "markdown",
   "id": "worse-shuttle",
   "metadata": {},
   "source": [
    "### 1. Using Ward"
   ]
  },
  {
   "cell_type": "code",
   "execution_count": 4,
   "id": "correct-pavilion",
   "metadata": {
    "ExecuteTime": {
     "end_time": "2021-05-19T07:55:37.815706Z",
     "start_time": "2021-05-19T07:55:33.030757Z"
    }
   },
   "outputs": [
    {
     "data": {
      "image/png": "[encoded data removed]",
      "text/plain": [
       "<Figure size 432x288 with 1 Axes>"
      ]
     },
     "metadata": {
      "needs_background": "light"
     },
     "output_type": "display_data"
    }
   ],
   "source": [
    "#Linkage Matrix\n",
    "Z = linkage(df_scaled_ss, method = 'ward')\n",
    "#plotting dendrogram\n",
    "dendro = dendrogram(Z)\n",
    "plt.title('Dendrogram Ward')\n",
    "plt.ylabel('Euclidean distance')\n",
    "plt.axhline(y=15, color='r', linestyle='--')\n",
    "plt.show()"
   ]
  },
  {
   "cell_type": "code",
   "execution_count": 5,
   "id": "instant-angel",
   "metadata": {
    "ExecuteTime": {
     "end_time": "2021-05-19T07:55:40.824693Z",
     "start_time": "2021-05-19T07:55:40.818689Z"
    }
   },
   "outputs": [
    {
     "data": {
      "text/plain": [
       "0.8226303613177273"
      ]
     },
     "execution_count": 5,
     "metadata": {},
     "output_type": "execute_result"
    }
   ],
   "source": [
    "from scipy.cluster.hierarchy import cophenet\n",
    "from scipy.spatial.distance import pdist\n",
    "\n",
    "c, coph_dists = cophenet(Z, pdist(df_scaled_ss))\n",
    "ward_c = c\n",
    "ward_c"
   ]
  },
  {
   "cell_type": "code",
   "execution_count": 6,
   "id": "lucky-beatles",
   "metadata": {
    "ExecuteTime": {
     "end_time": "2021-05-19T07:55:43.002790Z",
     "start_time": "2021-05-19T07:55:42.862657Z"
    }
   },
   "outputs": [
    {
     "data": {
      "image/png": "[encoded data removed]",
      "text/plain": [
       "<Figure size 576x360 with 1 Axes>"
      ]
     },
     "metadata": {
      "needs_background": "light"
     },
     "output_type": "display_data"
    }
   ],
   "source": [
    "from sklearn.datasets import load_iris\n",
    "from sklearn.cluster import AgglomerativeClustering\n",
    "import numpy as np\n",
    "import matplotlib.pyplot as plt\n",
    " \n",
    "data = load_iris()\n",
    "df = data.data\n",
    "df = df[:,1:3]\n",
    "\n",
    "agg_clustering = AgglomerativeClustering(n_clusters = 2, affinity = 'euclidean', linkage = 'ward')\n",
    " \n",
    "#predicting the labels\n",
    "labels = agg_clustering.fit_predict(df)\n",
    " \n",
    "#Plotting the results\n",
    " \n",
    "plt.figure(figsize = (8,5))\n",
    "plt.scatter(df[labels == 0 , 0] , df[labels == 0 , 1] , c = 'red')\n",
    "plt.scatter(df[labels == 1 , 0] , df[labels == 1 , 1] , c = 'blue')\n",
    "plt.show()"
   ]
  },
  {
   "cell_type": "markdown",
   "id": "norwegian-planning",
   "metadata": {},
   "source": [
    "###  2. Using Single"
   ]
  },
  {
   "cell_type": "code",
   "execution_count": null,
   "id": "attended-freeware",
   "metadata": {
    "ExecuteTime": {
     "end_time": "2021-05-19T07:27:39.409590Z",
     "start_time": "2021-05-19T07:27:34.694496Z"
    }
   },
   "outputs": [],
   "source": [
    "#Importing libraries\n",
    "from sklearn.datasets import load_iris\n",
    "from sklearn.cluster import AgglomerativeClustering\n",
    "import numpy as np\n",
    "import matplotlib.pyplot as plt\n",
    "from scipy.cluster.hierarchy import dendrogram , linkage\n",
    " \n",
    "data = load_iris()\n",
    "df = data.data\n",
    "df = df[:,1:3]\n",
    " \n",
    "#Linkage Matrix\n",
    "Z = linkage(df, method = 'single')\n",
    " \n",
    "#plotting dendrogram\n",
    "dendro = dendrogram(Z)\n",
    "plt.title('Dendrogram Single')\n",
    "plt.ylabel('Euclidean distance')\n",
    "plt.show()"
   ]
  },
  {
   "cell_type": "code",
   "execution_count": null,
   "id": "quiet-thesaurus",
   "metadata": {
    "ExecuteTime": {
     "end_time": "2021-05-19T07:51:16.871477Z",
     "start_time": "2021-05-19T07:51:16.864941Z"
    }
   },
   "outputs": [],
   "source": [
    "from scipy.cluster.hierarchy import cophenet\n",
    "from scipy.spatial.distance import pdist\n",
    "\n",
    "c, coph_dists = cophenet(Z, pdist(df_scaled_ss))\n",
    "single_c = c\n",
    "single_c"
   ]
  },
  {
   "cell_type": "code",
   "execution_count": null,
   "id": "close-bradford",
   "metadata": {
    "ExecuteTime": {
     "end_time": "2021-05-19T07:51:30.579167Z",
     "start_time": "2021-05-19T07:51:30.425909Z"
    }
   },
   "outputs": [],
   "source": [
    "from sklearn.datasets import load_iris\n",
    "from sklearn.cluster import AgglomerativeClustering\n",
    "import numpy as np\n",
    "import matplotlib.pyplot as plt\n",
    " \n",
    "data = load_iris()\n",
    "df = data.data\n",
    "df = df[:,1:3]\n",
    "\n",
    "agg_clustering = AgglomerativeClustering(n_clusters = 2, affinity = 'euclidean', linkage = 'single')\n",
    " \n",
    "#predicting the labels\n",
    "labels = agg_clustering.fit_predict(df)\n",
    " \n",
    "#Plotting the results\n",
    " \n",
    "plt.figure(figsize = (8,5))\n",
    "plt.scatter(df[labels == 0 , 0] , df[labels == 0 , 1] , c = 'red')\n",
    "plt.scatter(df[labels == 1 , 0] , df[labels == 1 , 1] , c = 'blue')\n",
    "plt.show()"
   ]
  },
  {
   "cell_type": "markdown",
   "id": "advised-floor",
   "metadata": {},
   "source": [
    "### 3. Using Complete"
   ]
  },
  {
   "cell_type": "code",
   "execution_count": null,
   "id": "spoken-broadcast",
   "metadata": {
    "ExecuteTime": {
     "end_time": "2021-05-19T07:41:51.884657Z",
     "start_time": "2021-05-19T07:41:47.027278Z"
    }
   },
   "outputs": [],
   "source": [
    "#Importing libraries\n",
    "from sklearn.datasets import load_iris\n",
    "from sklearn.cluster import AgglomerativeClustering\n",
    "import numpy as np\n",
    "import matplotlib.pyplot as plt\n",
    "from scipy.cluster.hierarchy import dendrogram , linkage\n",
    " \n",
    "data = load_iris()\n",
    "df = data.data\n",
    "df = df[:,1:3]\n",
    " \n",
    "#Linkage Matrix\n",
    "Z = linkage(df, method = 'complete')\n",
    " \n",
    "#plotting dendrogram\n",
    "dendro = dendrogram(Z)\n",
    "plt.title('Dendrogram Complete')\n",
    "plt.ylabel('Euclidean distance')\n",
    "plt.show()"
   ]
  },
  {
   "cell_type": "code",
   "execution_count": null,
   "id": "computational-patent",
   "metadata": {
    "ExecuteTime": {
     "end_time": "2021-05-19T07:51:47.617703Z",
     "start_time": "2021-05-19T07:51:47.611825Z"
    }
   },
   "outputs": [],
   "source": [
    "from scipy.cluster.hierarchy import cophenet\n",
    "from scipy.spatial.distance import pdist\n",
    "\n",
    "c, coph_dists = cophenet(Z, pdist(df_scaled_ss))\n",
    "complete_c = c\n",
    "complete_c"
   ]
  },
  {
   "cell_type": "code",
   "execution_count": null,
   "id": "mature-dollar",
   "metadata": {
    "ExecuteTime": {
     "end_time": "2021-05-19T07:41:58.666261Z",
     "start_time": "2021-05-19T07:41:58.523847Z"
    }
   },
   "outputs": [],
   "source": [
    "from sklearn.datasets import load_iris\n",
    "from sklearn.cluster import AgglomerativeClustering\n",
    "import numpy as np\n",
    "import matplotlib.pyplot as plt\n",
    " \n",
    "data = load_iris()\n",
    "df = data.data\n",
    "df = df[:,1:3]\n",
    "\n",
    "agg_clustering = AgglomerativeClustering(n_clusters = 2, affinity = 'euclidean', linkage = 'complete')\n",
    " \n",
    "#predicting the labels\n",
    "labels = agg_clustering.fit_predict(df)\n",
    " \n",
    "#Plotting the results\n",
    "plt.figure(figsize = (8,5))\n",
    "plt.scatter(df[labels == 0 , 0] , df[labels == 0 , 1] , c = 'red')\n",
    "plt.scatter(df[labels == 1 , 0] , df[labels == 1 , 1] , c = 'blue')\n",
    "plt.show()"
   ]
  },
  {
   "cell_type": "markdown",
   "id": "short-viking",
   "metadata": {},
   "source": [
    "### 4. Using Average"
   ]
  },
  {
   "cell_type": "code",
   "execution_count": null,
   "id": "pretty-surgery",
   "metadata": {
    "ExecuteTime": {
     "end_time": "2021-05-19T07:42:40.909266Z",
     "start_time": "2021-05-19T07:42:36.197273Z"
    }
   },
   "outputs": [],
   "source": [
    "#Importing libraries\n",
    "from sklearn.datasets import load_iris\n",
    "from sklearn.cluster import AgglomerativeClustering\n",
    "import numpy as np\n",
    "import matplotlib.pyplot as plt\n",
    "from scipy.cluster.hierarchy import dendrogram , linkage\n",
    " \n",
    "data = load_iris()\n",
    "df = data.data\n",
    "df = df[:,1:3]\n",
    " \n",
    "#Linkage Matrix\n",
    "Z = linkage(df, method = 'average')\n",
    " \n",
    "#plotting dendrogram\n",
    "dendro = dendrogram(Z)\n",
    "plt.title('Dendrogram Average')\n",
    "plt.ylabel('Euclidean distance')\n",
    "plt.show()"
   ]
  },
  {
   "cell_type": "code",
   "execution_count": null,
   "id": "adaptive-prince",
   "metadata": {
    "ExecuteTime": {
     "end_time": "2021-05-19T07:52:13.375911Z",
     "start_time": "2021-05-19T07:52:13.369881Z"
    }
   },
   "outputs": [],
   "source": [
    "from scipy.cluster.hierarchy import cophenet\n",
    "from scipy.spatial.distance import pdist\n",
    "\n",
    "c, coph_dists = cophenet(Z, pdist(df_scaled_ss))\n",
    "average_cophenet = c\n",
    "average_cophenet"
   ]
  },
  {
   "cell_type": "code",
   "execution_count": null,
   "id": "informed-wheel",
   "metadata": {
    "ExecuteTime": {
     "end_time": "2021-05-19T07:52:16.350958Z",
     "start_time": "2021-05-19T07:52:16.217154Z"
    }
   },
   "outputs": [],
   "source": [
    "from sklearn.datasets import load_iris\n",
    "from sklearn.cluster import AgglomerativeClustering\n",
    "import numpy as np\n",
    "import matplotlib.pyplot as plt\n",
    " \n",
    "data = load_iris()\n",
    "df = data.data\n",
    "df = df[:,1:3]\n",
    "\n",
    "agg_clustering = AgglomerativeClustering(n_clusters = 2, affinity = 'euclidean', linkage = 'average')\n",
    " \n",
    "#predicting the labels\n",
    "labels = agg_clustering.fit_predict(df)\n",
    " \n",
    "#Plotting the results\n",
    "plt.figure(figsize = (8,5))\n",
    "plt.scatter(df[labels == 0 , 0] , df[labels == 0 , 1] , c = 'red')\n",
    "plt.scatter(df[labels == 1 , 0] , df[labels == 1 , 1] , c = 'blue')\n",
    "plt.show()"
   ]
  },
  {
   "cell_type": "markdown",
   "id": "obvious-showcase",
   "metadata": {},
   "source": [
    "#### Cophenetic correlation is a measure of how well the clustering result matches the original resemblances. If the value is high (near 1) the clustering result is an excellent representation of the original distances"
   ]
  },
  {
   "cell_type": "code",
   "execution_count": null,
   "id": "brilliant-bachelor",
   "metadata": {
    "ExecuteTime": {
     "end_time": "2021-05-19T07:54:23.803539Z",
     "start_time": "2021-05-19T07:54:23.598973Z"
    }
   },
   "outputs": [],
   "source": [
    "import matplotlib.pyplot as plt\n",
    "import seaborn as sns\n",
    "sns.set(style=\"whitegrid\")\n",
    "tips = sns.load_dataset(\"tips\")\n",
    "\n",
    "fig = plt.figure(figsize=(5,3.75))\n",
    "ax1 = sns.barplot(x=['Ward', 'Single', 'Complete', 'Average'], y=[ward_c, single_c, complete_c, average_cophenet],  \n",
    "                  ci = None, color='#5499c7')\n",
    "ax1.set_title('Total Bills per Day')\n",
    "ax1.set(xlabel='Day', ylabel='Total Bills')        \n",
    "plt.show()"
   ]
  },
  {
   "cell_type": "code",
   "execution_count": null,
   "id": "italian-translator",
   "metadata": {
    "ExecuteTime": {
     "end_time": "2021-05-19T07:55:11.462195Z",
     "start_time": "2021-05-19T07:55:11.458404Z"
    }
   },
   "outputs": [],
   "source": [
    "[ward_c, single_c, complete_c, average_cophenet]"
   ]
  },
  {
   "cell_type": "code",
   "execution_count": null,
   "id": "unsigned-burton",
   "metadata": {
    "ExecuteTime": {
     "end_time": "2021-05-19T07:54:59.809055Z",
     "start_time": "2021-05-19T07:54:59.804043Z"
    }
   },
   "outputs": [],
   "source": [
    "max([ward_c, single_c, complete_c, average_cophenet])"
   ]
  }
 ],
 "metadata": {
  "kernelspec": {
   "display_name": "Python 3",
   "language": "python",
   "name": "python3"
  },
  "language_info": {
   "codemirror_mode": {
    "name": "ipython",
    "version": 3
   },
   "file_extension": ".py",
   "mimetype": "text/x-python",
   "name": "python",
   "nbconvert_exporter": "python",
   "pygments_lexer": "ipython3",
   "version": "3.8.8"
  }
 },
 "nbformat": 4,
 "nbformat_minor": 5
}
